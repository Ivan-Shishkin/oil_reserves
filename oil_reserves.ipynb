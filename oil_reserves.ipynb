{
 "cells": [
  {
   "cell_type": "markdown",
   "metadata": {},
   "source": [
    "# Описание проекта"
   ]
  },
  {
   "cell_type": "markdown",
   "metadata": {},
   "source": [
    "Допустим, вы работаете в добывающей компании «ГлавРосГосНефть». Нужно решить, где бурить новую скважину.\n",
    "\n",
    "Вам предоставлены пробы нефти в трёх регионах: в каждом 10 000 месторождений, где измерили качество нефти и объём её запасов. Постройте модель машинного обучения, которая поможет определить регион, где добыча принесёт наибольшую прибыль. \n",
    "\n",
    "Шаги для выбора локации:\n",
    "\n",
    "- В избранном регионе ищут месторождения, для каждого определяют значения признаков;\n",
    "- Строят модель и оценивают объём запасов;\n",
    "- Выбирают месторождения с самым высокими оценками значений. Количество месторождений зависит от бюджета компании и стоимости разработки одной скважины;\n",
    "- Прибыль равна суммарной прибыли отобранных месторождений."
   ]
  },
  {
   "cell_type": "markdown",
   "metadata": {},
   "source": [
    "# Описание данных"
   ]
  },
  {
   "cell_type": "markdown",
   "metadata": {},
   "source": [
    "- `id` — уникальный идентификатор скважины\n",
    "\n",
    "- `f0`, `f1`, `f2` — три признака точек (неважно, что они означают, но сами признаки значимы)\n",
    "\n",
    "- `product` — объём запасов в скважине (тыс. баррелей)"
   ]
  },
  {
   "cell_type": "markdown",
   "metadata": {},
   "source": [
    "# Условия задачи"
   ]
  },
  {
   "cell_type": "markdown",
   "metadata": {},
   "source": [
    "- Для обучения модели подходит только **линейная регрессия** (остальные — недостаточно предсказуемые).\n",
    "\n",
    "\n",
    "- При разведке региона исследуют 500 точек, из которых с помощью машинного обучения выбирают **200 лучших** для разработки.\n",
    "\n",
    "\n",
    "- Бюджет на разработку скважин в регионе — **10 млрд рублей**\n",
    "\n",
    "\n",
    "- При нынешних ценах **один баррель сырья приносит 450 рублей дохода**. Доход с каждой единицы продукта составляет 450 тыс. рублей, поскольку объём указан в тысячах баррелей.\n",
    "\n",
    "\n",
    "- После оценки рисков нужно оставить лишь те регионы, в которых **вероятность убытков меньше 2.5%**. Среди них выбирают регион с наибольшей средней прибылью."
   ]
  },
  {
   "cell_type": "markdown",
   "metadata": {},
   "source": [
    "# План проекта"
   ]
  },
  {
   "cell_type": "markdown",
   "metadata": {},
   "source": [
    "1. [Загрузка и  подготовка данных](#шаг_1)\n",
    "2. [Обучение и проверка модели](#шаг_2)\n",
    "    - [Разделение данных на обучающую и валидационные выборки](#разделение_данных)\n",
    "    - [Стандартизация данных](#стандартизация)\n",
    "    - [Обучение моделей](#обучение_моделей)\n",
    "    - [Значение RMSE на валидационной выборки и средний запас предсказанного сырья для каждого региона](#RMSE)\n",
    "    - [Вывод](#вывод_1)\n",
    "3. [Подготовка к расчету прибыли](#шаг_3)\n",
    "    - [Значимые константы](#константы)\n",
    "    - [Достаточный объем сырья для безубыточной разработки в регионе](#V)\n",
    "    - [Вывод](#вывод_2)\n",
    "4. [Расчет прибыли и рисков](#шаг_4)\n",
    "    - [Распределение прибыли в каждом и регионов](#распределение_прибыли)\n",
    "    - [Средняя прибыль](#средняя_прибыль_по_региону)\n",
    "    - [Доверительный интервал](#доверительный_интервала_для_прибыли)\n",
    "    - [Риск убытков](#риски_убытка)\n",
    "    - [Рекомендованнный регион для разработки](#рекомендация)"
   ]
  },
  {
   "cell_type": "code",
   "execution_count": 1,
   "metadata": {},
   "outputs": [],
   "source": [
    "# импорт библиотек\n",
    "\n",
    "import pandas as pd\n",
    "import numpy as np\n",
    "from IPython.display import display\n",
    "\n",
    "import seaborn as sns\n",
    "import matplotlib.pyplot as plt\n",
    "%matplotlib inline\n",
    "\n",
    "from sklearn.model_selection import train_test_split, GridSearchCV\n",
    "from sklearn.preprocessing import StandardScaler\n",
    "\n",
    "from sklearn.linear_model import LinearRegression as LR\n",
    "from sklearn.metrics import mean_squared_error\n",
    "\n",
    "from scipy import stats"
   ]
  },
  {
   "cell_type": "markdown",
   "metadata": {},
   "source": [
    "<a id=\"шаг_1\"></a>"
   ]
  },
  {
   "cell_type": "markdown",
   "metadata": {},
   "source": [
    "# 1. Загрузка и подготовка данных"
   ]
  },
  {
   "cell_type": "code",
   "execution_count": 2,
   "metadata": {},
   "outputs": [],
   "source": [
    "# читаем данные\n",
    "\n",
    "try:\n",
    "    data_0 = pd.read_csv('geo_data_0.csv')\n",
    "    data_1 = pd.read_csv('geo_data_1.csv')\n",
    "    data_2 = pd.read_csv('geo_data_2.csv')\n",
    "    \n",
    "except:\n",
    "    data_0 = pd.read_csv('/datasets/geo_data_0.csv')\n",
    "    data_1 = pd.read_csv('/datasets/geo_data_1.csv')\n",
    "    data_2 = pd.read_csv('/datasets/geo_data_2.csv')"
   ]
  },
  {
   "cell_type": "code",
   "execution_count": 3,
   "metadata": {},
   "outputs": [
    {
     "name": "stdout",
     "output_type": "stream",
     "text": [
      "data_0\n"
     ]
    },
    {
     "data": {
      "text/html": [
       "<div>\n",
       "<style scoped>\n",
       "    .dataframe tbody tr th:only-of-type {\n",
       "        vertical-align: middle;\n",
       "    }\n",
       "\n",
       "    .dataframe tbody tr th {\n",
       "        vertical-align: top;\n",
       "    }\n",
       "\n",
       "    .dataframe thead th {\n",
       "        text-align: right;\n",
       "    }\n",
       "</style>\n",
       "<table border=\"1\" class=\"dataframe\">\n",
       "  <thead>\n",
       "    <tr style=\"text-align: right;\">\n",
       "      <th></th>\n",
       "      <th>id</th>\n",
       "      <th>f0</th>\n",
       "      <th>f1</th>\n",
       "      <th>f2</th>\n",
       "      <th>product</th>\n",
       "    </tr>\n",
       "  </thead>\n",
       "  <tbody>\n",
       "    <tr>\n",
       "      <td>0</td>\n",
       "      <td>txEyH</td>\n",
       "      <td>0.705745</td>\n",
       "      <td>-0.497823</td>\n",
       "      <td>1.221170</td>\n",
       "      <td>105.280062</td>\n",
       "    </tr>\n",
       "    <tr>\n",
       "      <td>1</td>\n",
       "      <td>2acmU</td>\n",
       "      <td>1.334711</td>\n",
       "      <td>-0.340164</td>\n",
       "      <td>4.365080</td>\n",
       "      <td>73.037750</td>\n",
       "    </tr>\n",
       "    <tr>\n",
       "      <td>2</td>\n",
       "      <td>409Wp</td>\n",
       "      <td>1.022732</td>\n",
       "      <td>0.151990</td>\n",
       "      <td>1.419926</td>\n",
       "      <td>85.265647</td>\n",
       "    </tr>\n",
       "    <tr>\n",
       "      <td>3</td>\n",
       "      <td>iJLyR</td>\n",
       "      <td>-0.032172</td>\n",
       "      <td>0.139033</td>\n",
       "      <td>2.978566</td>\n",
       "      <td>168.620776</td>\n",
       "    </tr>\n",
       "    <tr>\n",
       "      <td>4</td>\n",
       "      <td>Xdl7t</td>\n",
       "      <td>1.988431</td>\n",
       "      <td>0.155413</td>\n",
       "      <td>4.751769</td>\n",
       "      <td>154.036647</td>\n",
       "    </tr>\n",
       "  </tbody>\n",
       "</table>\n",
       "</div>"
      ],
      "text/plain": [
       "      id        f0        f1        f2     product\n",
       "0  txEyH  0.705745 -0.497823  1.221170  105.280062\n",
       "1  2acmU  1.334711 -0.340164  4.365080   73.037750\n",
       "2  409Wp  1.022732  0.151990  1.419926   85.265647\n",
       "3  iJLyR -0.032172  0.139033  2.978566  168.620776\n",
       "4  Xdl7t  1.988431  0.155413  4.751769  154.036647"
      ]
     },
     "metadata": {},
     "output_type": "display_data"
    },
    {
     "name": "stdout",
     "output_type": "stream",
     "text": [
      "\n",
      "data_1\n"
     ]
    },
    {
     "data": {
      "text/html": [
       "<div>\n",
       "<style scoped>\n",
       "    .dataframe tbody tr th:only-of-type {\n",
       "        vertical-align: middle;\n",
       "    }\n",
       "\n",
       "    .dataframe tbody tr th {\n",
       "        vertical-align: top;\n",
       "    }\n",
       "\n",
       "    .dataframe thead th {\n",
       "        text-align: right;\n",
       "    }\n",
       "</style>\n",
       "<table border=\"1\" class=\"dataframe\">\n",
       "  <thead>\n",
       "    <tr style=\"text-align: right;\">\n",
       "      <th></th>\n",
       "      <th>id</th>\n",
       "      <th>f0</th>\n",
       "      <th>f1</th>\n",
       "      <th>f2</th>\n",
       "      <th>product</th>\n",
       "    </tr>\n",
       "  </thead>\n",
       "  <tbody>\n",
       "    <tr>\n",
       "      <td>0</td>\n",
       "      <td>kBEdx</td>\n",
       "      <td>-15.001348</td>\n",
       "      <td>-8.276000</td>\n",
       "      <td>-0.005876</td>\n",
       "      <td>3.179103</td>\n",
       "    </tr>\n",
       "    <tr>\n",
       "      <td>1</td>\n",
       "      <td>62mP7</td>\n",
       "      <td>14.272088</td>\n",
       "      <td>-3.475083</td>\n",
       "      <td>0.999183</td>\n",
       "      <td>26.953261</td>\n",
       "    </tr>\n",
       "    <tr>\n",
       "      <td>2</td>\n",
       "      <td>vyE1P</td>\n",
       "      <td>6.263187</td>\n",
       "      <td>-5.948386</td>\n",
       "      <td>5.001160</td>\n",
       "      <td>134.766305</td>\n",
       "    </tr>\n",
       "    <tr>\n",
       "      <td>3</td>\n",
       "      <td>KcrkZ</td>\n",
       "      <td>-13.081196</td>\n",
       "      <td>-11.506057</td>\n",
       "      <td>4.999415</td>\n",
       "      <td>137.945408</td>\n",
       "    </tr>\n",
       "    <tr>\n",
       "      <td>4</td>\n",
       "      <td>AHL4O</td>\n",
       "      <td>12.702195</td>\n",
       "      <td>-8.147433</td>\n",
       "      <td>5.004363</td>\n",
       "      <td>134.766305</td>\n",
       "    </tr>\n",
       "  </tbody>\n",
       "</table>\n",
       "</div>"
      ],
      "text/plain": [
       "      id         f0         f1        f2     product\n",
       "0  kBEdx -15.001348  -8.276000 -0.005876    3.179103\n",
       "1  62mP7  14.272088  -3.475083  0.999183   26.953261\n",
       "2  vyE1P   6.263187  -5.948386  5.001160  134.766305\n",
       "3  KcrkZ -13.081196 -11.506057  4.999415  137.945408\n",
       "4  AHL4O  12.702195  -8.147433  5.004363  134.766305"
      ]
     },
     "metadata": {},
     "output_type": "display_data"
    },
    {
     "name": "stdout",
     "output_type": "stream",
     "text": [
      "\n",
      "data_2\n"
     ]
    },
    {
     "data": {
      "text/html": [
       "<div>\n",
       "<style scoped>\n",
       "    .dataframe tbody tr th:only-of-type {\n",
       "        vertical-align: middle;\n",
       "    }\n",
       "\n",
       "    .dataframe tbody tr th {\n",
       "        vertical-align: top;\n",
       "    }\n",
       "\n",
       "    .dataframe thead th {\n",
       "        text-align: right;\n",
       "    }\n",
       "</style>\n",
       "<table border=\"1\" class=\"dataframe\">\n",
       "  <thead>\n",
       "    <tr style=\"text-align: right;\">\n",
       "      <th></th>\n",
       "      <th>id</th>\n",
       "      <th>f0</th>\n",
       "      <th>f1</th>\n",
       "      <th>f2</th>\n",
       "      <th>product</th>\n",
       "    </tr>\n",
       "  </thead>\n",
       "  <tbody>\n",
       "    <tr>\n",
       "      <td>0</td>\n",
       "      <td>fwXo0</td>\n",
       "      <td>-1.146987</td>\n",
       "      <td>0.963328</td>\n",
       "      <td>-0.828965</td>\n",
       "      <td>27.758673</td>\n",
       "    </tr>\n",
       "    <tr>\n",
       "      <td>1</td>\n",
       "      <td>WJtFt</td>\n",
       "      <td>0.262778</td>\n",
       "      <td>0.269839</td>\n",
       "      <td>-2.530187</td>\n",
       "      <td>56.069697</td>\n",
       "    </tr>\n",
       "    <tr>\n",
       "      <td>2</td>\n",
       "      <td>ovLUW</td>\n",
       "      <td>0.194587</td>\n",
       "      <td>0.289035</td>\n",
       "      <td>-5.586433</td>\n",
       "      <td>62.871910</td>\n",
       "    </tr>\n",
       "    <tr>\n",
       "      <td>3</td>\n",
       "      <td>q6cA6</td>\n",
       "      <td>2.236060</td>\n",
       "      <td>-0.553760</td>\n",
       "      <td>0.930038</td>\n",
       "      <td>114.572842</td>\n",
       "    </tr>\n",
       "    <tr>\n",
       "      <td>4</td>\n",
       "      <td>WPMUX</td>\n",
       "      <td>-0.515993</td>\n",
       "      <td>1.716266</td>\n",
       "      <td>5.899011</td>\n",
       "      <td>149.600746</td>\n",
       "    </tr>\n",
       "  </tbody>\n",
       "</table>\n",
       "</div>"
      ],
      "text/plain": [
       "      id        f0        f1        f2     product\n",
       "0  fwXo0 -1.146987  0.963328 -0.828965   27.758673\n",
       "1  WJtFt  0.262778  0.269839 -2.530187   56.069697\n",
       "2  ovLUW  0.194587  0.289035 -5.586433   62.871910\n",
       "3  q6cA6  2.236060 -0.553760  0.930038  114.572842\n",
       "4  WPMUX -0.515993  1.716266  5.899011  149.600746"
      ]
     },
     "metadata": {},
     "output_type": "display_data"
    }
   ],
   "source": [
    "# выводим первые 5 строк для каждого датафрейма\n",
    "\n",
    "print('data_0')\n",
    "display(data_0.head())\n",
    "print()\n",
    "\n",
    "print('data_1')\n",
    "display(data_1.head())\n",
    "print()\n",
    "\n",
    "print('data_2')\n",
    "display(data_2.head())"
   ]
  },
  {
   "cell_type": "markdown",
   "metadata": {},
   "source": [
    "Все данные прочтены верно и готовы к дальнейшей подготовке"
   ]
  },
  {
   "cell_type": "code",
   "execution_count": 4,
   "metadata": {},
   "outputs": [
    {
     "name": "stdout",
     "output_type": "stream",
     "text": [
      "data_0\n",
      "<class 'pandas.core.frame.DataFrame'>\n",
      "RangeIndex: 100000 entries, 0 to 99999\n",
      "Data columns (total 5 columns):\n",
      "id         100000 non-null object\n",
      "f0         100000 non-null float64\n",
      "f1         100000 non-null float64\n",
      "f2         100000 non-null float64\n",
      "product    100000 non-null float64\n",
      "dtypes: float64(4), object(1)\n",
      "memory usage: 3.8+ MB\n"
     ]
    },
    {
     "data": {
      "text/plain": [
       "None"
      ]
     },
     "metadata": {},
     "output_type": "display_data"
    },
    {
     "name": "stdout",
     "output_type": "stream",
     "text": [
      "\n",
      "data_1\n",
      "<class 'pandas.core.frame.DataFrame'>\n",
      "RangeIndex: 100000 entries, 0 to 99999\n",
      "Data columns (total 5 columns):\n",
      "id         100000 non-null object\n",
      "f0         100000 non-null float64\n",
      "f1         100000 non-null float64\n",
      "f2         100000 non-null float64\n",
      "product    100000 non-null float64\n",
      "dtypes: float64(4), object(1)\n",
      "memory usage: 3.8+ MB\n"
     ]
    },
    {
     "data": {
      "text/plain": [
       "None"
      ]
     },
     "metadata": {},
     "output_type": "display_data"
    },
    {
     "name": "stdout",
     "output_type": "stream",
     "text": [
      "\n",
      "data_2\n",
      "<class 'pandas.core.frame.DataFrame'>\n",
      "RangeIndex: 100000 entries, 0 to 99999\n",
      "Data columns (total 5 columns):\n",
      "id         100000 non-null object\n",
      "f0         100000 non-null float64\n",
      "f1         100000 non-null float64\n",
      "f2         100000 non-null float64\n",
      "product    100000 non-null float64\n",
      "dtypes: float64(4), object(1)\n",
      "memory usage: 3.8+ MB\n"
     ]
    },
    {
     "data": {
      "text/plain": [
       "None"
      ]
     },
     "metadata": {},
     "output_type": "display_data"
    }
   ],
   "source": [
    "# выводим первые 5 строк для каждого датафрейма\n",
    "\n",
    "print('data_0')\n",
    "display(data_0.info())\n",
    "print()\n",
    "\n",
    "print('data_1')\n",
    "display(data_1.info())\n",
    "print()\n",
    "\n",
    "print('data_2')\n",
    "display(data_2.info())"
   ]
  },
  {
   "cell_type": "markdown",
   "metadata": {},
   "source": [
    "Ни в одном из датафреймов нет пропусков и все столбцы имеют адекватные типы данных."
   ]
  },
  {
   "cell_type": "code",
   "execution_count": 5,
   "metadata": {},
   "outputs": [
    {
     "name": "stdout",
     "output_type": "stream",
     "text": [
      "data_0\n"
     ]
    },
    {
     "data": {
      "text/html": [
       "<div>\n",
       "<style scoped>\n",
       "    .dataframe tbody tr th:only-of-type {\n",
       "        vertical-align: middle;\n",
       "    }\n",
       "\n",
       "    .dataframe tbody tr th {\n",
       "        vertical-align: top;\n",
       "    }\n",
       "\n",
       "    .dataframe thead th {\n",
       "        text-align: right;\n",
       "    }\n",
       "</style>\n",
       "<table border=\"1\" class=\"dataframe\">\n",
       "  <thead>\n",
       "    <tr style=\"text-align: right;\">\n",
       "      <th></th>\n",
       "      <th>f0</th>\n",
       "      <th>f1</th>\n",
       "      <th>f2</th>\n",
       "      <th>product</th>\n",
       "    </tr>\n",
       "  </thead>\n",
       "  <tbody>\n",
       "    <tr>\n",
       "      <td>count</td>\n",
       "      <td>100000.000000</td>\n",
       "      <td>100000.000000</td>\n",
       "      <td>100000.000000</td>\n",
       "      <td>100000.000000</td>\n",
       "    </tr>\n",
       "    <tr>\n",
       "      <td>mean</td>\n",
       "      <td>0.500419</td>\n",
       "      <td>0.250143</td>\n",
       "      <td>2.502647</td>\n",
       "      <td>92.500000</td>\n",
       "    </tr>\n",
       "    <tr>\n",
       "      <td>std</td>\n",
       "      <td>0.871832</td>\n",
       "      <td>0.504433</td>\n",
       "      <td>3.248248</td>\n",
       "      <td>44.288691</td>\n",
       "    </tr>\n",
       "    <tr>\n",
       "      <td>min</td>\n",
       "      <td>-1.408605</td>\n",
       "      <td>-0.848218</td>\n",
       "      <td>-12.088328</td>\n",
       "      <td>0.000000</td>\n",
       "    </tr>\n",
       "    <tr>\n",
       "      <td>25%</td>\n",
       "      <td>-0.072580</td>\n",
       "      <td>-0.200881</td>\n",
       "      <td>0.287748</td>\n",
       "      <td>56.497507</td>\n",
       "    </tr>\n",
       "    <tr>\n",
       "      <td>50%</td>\n",
       "      <td>0.502360</td>\n",
       "      <td>0.250252</td>\n",
       "      <td>2.515969</td>\n",
       "      <td>91.849972</td>\n",
       "    </tr>\n",
       "    <tr>\n",
       "      <td>75%</td>\n",
       "      <td>1.073581</td>\n",
       "      <td>0.700646</td>\n",
       "      <td>4.715088</td>\n",
       "      <td>128.564089</td>\n",
       "    </tr>\n",
       "    <tr>\n",
       "      <td>max</td>\n",
       "      <td>2.362331</td>\n",
       "      <td>1.343769</td>\n",
       "      <td>16.003790</td>\n",
       "      <td>185.364347</td>\n",
       "    </tr>\n",
       "  </tbody>\n",
       "</table>\n",
       "</div>"
      ],
      "text/plain": [
       "                  f0             f1             f2        product\n",
       "count  100000.000000  100000.000000  100000.000000  100000.000000\n",
       "mean        0.500419       0.250143       2.502647      92.500000\n",
       "std         0.871832       0.504433       3.248248      44.288691\n",
       "min        -1.408605      -0.848218     -12.088328       0.000000\n",
       "25%        -0.072580      -0.200881       0.287748      56.497507\n",
       "50%         0.502360       0.250252       2.515969      91.849972\n",
       "75%         1.073581       0.700646       4.715088     128.564089\n",
       "max         2.362331       1.343769      16.003790     185.364347"
      ]
     },
     "metadata": {},
     "output_type": "display_data"
    },
    {
     "name": "stdout",
     "output_type": "stream",
     "text": [
      "\n",
      "data_1\n"
     ]
    },
    {
     "data": {
      "text/html": [
       "<div>\n",
       "<style scoped>\n",
       "    .dataframe tbody tr th:only-of-type {\n",
       "        vertical-align: middle;\n",
       "    }\n",
       "\n",
       "    .dataframe tbody tr th {\n",
       "        vertical-align: top;\n",
       "    }\n",
       "\n",
       "    .dataframe thead th {\n",
       "        text-align: right;\n",
       "    }\n",
       "</style>\n",
       "<table border=\"1\" class=\"dataframe\">\n",
       "  <thead>\n",
       "    <tr style=\"text-align: right;\">\n",
       "      <th></th>\n",
       "      <th>f0</th>\n",
       "      <th>f1</th>\n",
       "      <th>f2</th>\n",
       "      <th>product</th>\n",
       "    </tr>\n",
       "  </thead>\n",
       "  <tbody>\n",
       "    <tr>\n",
       "      <td>count</td>\n",
       "      <td>100000.000000</td>\n",
       "      <td>100000.000000</td>\n",
       "      <td>100000.000000</td>\n",
       "      <td>100000.000000</td>\n",
       "    </tr>\n",
       "    <tr>\n",
       "      <td>mean</td>\n",
       "      <td>1.141296</td>\n",
       "      <td>-4.796579</td>\n",
       "      <td>2.494541</td>\n",
       "      <td>68.825000</td>\n",
       "    </tr>\n",
       "    <tr>\n",
       "      <td>std</td>\n",
       "      <td>8.965932</td>\n",
       "      <td>5.119872</td>\n",
       "      <td>1.703572</td>\n",
       "      <td>45.944423</td>\n",
       "    </tr>\n",
       "    <tr>\n",
       "      <td>min</td>\n",
       "      <td>-31.609576</td>\n",
       "      <td>-26.358598</td>\n",
       "      <td>-0.018144</td>\n",
       "      <td>0.000000</td>\n",
       "    </tr>\n",
       "    <tr>\n",
       "      <td>25%</td>\n",
       "      <td>-6.298551</td>\n",
       "      <td>-8.267985</td>\n",
       "      <td>1.000021</td>\n",
       "      <td>26.953261</td>\n",
       "    </tr>\n",
       "    <tr>\n",
       "      <td>50%</td>\n",
       "      <td>1.153055</td>\n",
       "      <td>-4.813172</td>\n",
       "      <td>2.011479</td>\n",
       "      <td>57.085625</td>\n",
       "    </tr>\n",
       "    <tr>\n",
       "      <td>75%</td>\n",
       "      <td>8.621015</td>\n",
       "      <td>-1.332816</td>\n",
       "      <td>3.999904</td>\n",
       "      <td>107.813044</td>\n",
       "    </tr>\n",
       "    <tr>\n",
       "      <td>max</td>\n",
       "      <td>29.421755</td>\n",
       "      <td>18.734063</td>\n",
       "      <td>5.019721</td>\n",
       "      <td>137.945408</td>\n",
       "    </tr>\n",
       "  </tbody>\n",
       "</table>\n",
       "</div>"
      ],
      "text/plain": [
       "                  f0             f1             f2        product\n",
       "count  100000.000000  100000.000000  100000.000000  100000.000000\n",
       "mean        1.141296      -4.796579       2.494541      68.825000\n",
       "std         8.965932       5.119872       1.703572      45.944423\n",
       "min       -31.609576     -26.358598      -0.018144       0.000000\n",
       "25%        -6.298551      -8.267985       1.000021      26.953261\n",
       "50%         1.153055      -4.813172       2.011479      57.085625\n",
       "75%         8.621015      -1.332816       3.999904     107.813044\n",
       "max        29.421755      18.734063       5.019721     137.945408"
      ]
     },
     "metadata": {},
     "output_type": "display_data"
    },
    {
     "name": "stdout",
     "output_type": "stream",
     "text": [
      "\n",
      "data_2\n"
     ]
    },
    {
     "data": {
      "text/html": [
       "<div>\n",
       "<style scoped>\n",
       "    .dataframe tbody tr th:only-of-type {\n",
       "        vertical-align: middle;\n",
       "    }\n",
       "\n",
       "    .dataframe tbody tr th {\n",
       "        vertical-align: top;\n",
       "    }\n",
       "\n",
       "    .dataframe thead th {\n",
       "        text-align: right;\n",
       "    }\n",
       "</style>\n",
       "<table border=\"1\" class=\"dataframe\">\n",
       "  <thead>\n",
       "    <tr style=\"text-align: right;\">\n",
       "      <th></th>\n",
       "      <th>f0</th>\n",
       "      <th>f1</th>\n",
       "      <th>f2</th>\n",
       "      <th>product</th>\n",
       "    </tr>\n",
       "  </thead>\n",
       "  <tbody>\n",
       "    <tr>\n",
       "      <td>count</td>\n",
       "      <td>100000.000000</td>\n",
       "      <td>100000.000000</td>\n",
       "      <td>100000.000000</td>\n",
       "      <td>100000.000000</td>\n",
       "    </tr>\n",
       "    <tr>\n",
       "      <td>mean</td>\n",
       "      <td>0.002023</td>\n",
       "      <td>-0.002081</td>\n",
       "      <td>2.495128</td>\n",
       "      <td>95.000000</td>\n",
       "    </tr>\n",
       "    <tr>\n",
       "      <td>std</td>\n",
       "      <td>1.732045</td>\n",
       "      <td>1.730417</td>\n",
       "      <td>3.473445</td>\n",
       "      <td>44.749921</td>\n",
       "    </tr>\n",
       "    <tr>\n",
       "      <td>min</td>\n",
       "      <td>-8.760004</td>\n",
       "      <td>-7.084020</td>\n",
       "      <td>-11.970335</td>\n",
       "      <td>0.000000</td>\n",
       "    </tr>\n",
       "    <tr>\n",
       "      <td>25%</td>\n",
       "      <td>-1.162288</td>\n",
       "      <td>-1.174820</td>\n",
       "      <td>0.130359</td>\n",
       "      <td>59.450441</td>\n",
       "    </tr>\n",
       "    <tr>\n",
       "      <td>50%</td>\n",
       "      <td>0.009424</td>\n",
       "      <td>-0.009482</td>\n",
       "      <td>2.484236</td>\n",
       "      <td>94.925613</td>\n",
       "    </tr>\n",
       "    <tr>\n",
       "      <td>75%</td>\n",
       "      <td>1.158535</td>\n",
       "      <td>1.163678</td>\n",
       "      <td>4.858794</td>\n",
       "      <td>130.595027</td>\n",
       "    </tr>\n",
       "    <tr>\n",
       "      <td>max</td>\n",
       "      <td>7.238262</td>\n",
       "      <td>7.844801</td>\n",
       "      <td>16.739402</td>\n",
       "      <td>190.029838</td>\n",
       "    </tr>\n",
       "  </tbody>\n",
       "</table>\n",
       "</div>"
      ],
      "text/plain": [
       "                  f0             f1             f2        product\n",
       "count  100000.000000  100000.000000  100000.000000  100000.000000\n",
       "mean        0.002023      -0.002081       2.495128      95.000000\n",
       "std         1.732045       1.730417       3.473445      44.749921\n",
       "min        -8.760004      -7.084020     -11.970335       0.000000\n",
       "25%        -1.162288      -1.174820       0.130359      59.450441\n",
       "50%         0.009424      -0.009482       2.484236      94.925613\n",
       "75%         1.158535       1.163678       4.858794     130.595027\n",
       "max         7.238262       7.844801      16.739402     190.029838"
      ]
     },
     "metadata": {},
     "output_type": "display_data"
    }
   ],
   "source": [
    "# изучим масштабы всех признаков\n",
    "\n",
    "print('data_0')\n",
    "display(data_0.describe())\n",
    "print()\n",
    "\n",
    "print('data_1')\n",
    "display(data_1.describe())\n",
    "print()\n",
    "\n",
    "print('data_2')\n",
    "display(data_2.describe())"
   ]
  },
  {
   "cell_type": "markdown",
   "metadata": {},
   "source": [
    "Можно обратить внимание, что в таблицах `data_0` и `data_1` признак **f2** заметно отличается по масштабу от признаков **f0** и **f1**. Т.е. для более правильного обучения модели также необходимо *стандартизировать признаки*. Но этим стоит заняться уже после разделения выборок на тестовую и обучающую. А пока что выделим целевой признак и признаки, по которым он будет предсказываться в отдельные датафреймы"
   ]
  },
  {
   "cell_type": "code",
   "execution_count": 6,
   "metadata": {},
   "outputs": [],
   "source": [
    "# целевой признак\n",
    "\n",
    "target_0 = data_0['product']\n",
    "target_1 = data_1['product']\n",
    "target_2 = data_2['product']\n",
    "\n",
    "# обучающие признаки\n",
    "\n",
    "features_0 = data_0[['f0', 'f1', 'f2']]\n",
    "features_1 = data_1[['f0', 'f1', 'f2']]\n",
    "features_2 = data_2[['f0', 'f1', 'f2']]\n"
   ]
  },
  {
   "cell_type": "markdown",
   "metadata": {},
   "source": [
    "Фактически мы убрали из рассмотрения колонку `id`. Так как название месторождения не влияет на его запасы.\n",
    "\n",
    "Построим гистограмму колонки `product` для каждого региона."
   ]
  },
  {
   "cell_type": "code",
   "execution_count": 7,
   "metadata": {},
   "outputs": [
    {
     "data": {
      "image/png": "[encoded data removed]",
      "text/plain": [
       "<Figure size 1440x360 with 3 Axes>"
      ]
     },
     "metadata": {
      "needs_background": "light"
     },
     "output_type": "display_data"
    }
   ],
   "source": [
    "fig, ax = plt.subplots(1,3, figsize=(20,5))\n",
    "\n",
    "sns.distplot(data_0['product'], bins=50, kde=False, ax=ax[0])\n",
    "ax[0].set_title('Region 0', fontsize=15)\n",
    "ax[0].set_ylabel('thousands barrels')\n",
    "ax[0].grid(True)\n",
    "\n",
    "sns.distplot(data_1['product'], bins=50, kde=False, ax=ax[1])\n",
    "ax[1].set_title('Region 1', fontsize=15)\n",
    "ax[1].set_ylabel('thousands barrels')\n",
    "ax[1].grid(True)\n",
    "\n",
    "sns.distplot(data_2['product'], bins=50, kde=False, ax=ax[2])\n",
    "ax[2].set_title('Region 2', fontsize=15)\n",
    "ax[2].set_ylabel('thousands barrels')\n",
    "ax[2].grid(True)"
   ]
  },
  {
   "cell_type": "markdown",
   "metadata": {},
   "source": [
    "Интересно. Для регионов 0 и 2 распределение напоминает нормальное, но без явно выраженного пика. Для региона 1 - распределение выглядит очень странно. Очень много месторождений с 0 запасом."
   ]
  },
  {
   "cell_type": "markdown",
   "metadata": {},
   "source": [
    "<a id=\"шаг_2\"></a>"
   ]
  },
  {
   "cell_type": "markdown",
   "metadata": {},
   "source": [
    "# 2. Обучение и проверка модели"
   ]
  },
  {
   "cell_type": "markdown",
   "metadata": {},
   "source": [
    "<a id=\"разделение_данных\"></a>"
   ]
  },
  {
   "cell_type": "markdown",
   "metadata": {},
   "source": [
    "## Разделение данных на обучающую и валидационную выборки"
   ]
  },
  {
   "cell_type": "markdown",
   "metadata": {},
   "source": [
    "поскольку далее все операции скорее всего придется проводит по 3 раза (для каждого из регионов), то для автоматизации этих действий будем хранить не три валидационные/обучающие выборки, а словари из трех элементов - так получится все действия выполнять в циклах. "
   ]
  },
  {
   "cell_type": "code",
   "execution_count": 8,
   "metadata": {},
   "outputs": [],
   "source": [
    "# создаем словарь с исходными датафреймами\n",
    "\n",
    "data_dict = {0: data_0, 1: data_1, 2:data_2}\n",
    "\n",
    "# создаем словари с целевым признаков и признаками для предсказания\n",
    "\n",
    "target_dict = {0: target_0, 1: target_1, 2:target_2}\n",
    "features_dict = {0: features_0, 1: features_1, 2:features_2}"
   ]
  },
  {
   "cell_type": "code",
   "execution_count": 9,
   "metadata": {},
   "outputs": [],
   "source": [
    "# создаем словари с обучающими и валидационными выборками\n",
    "\n",
    "features_train_dict ={}\n",
    "target_train_dict = {}\n",
    "\n",
    "features_valid_dict ={}\n",
    "target_valid_dict = {}\n",
    "\n",
    "# делим данные для каждого региона на обучающую и валидационные выборки\n",
    "\n",
    "for i in range(3):\n",
    "    features = features_dict[i]\n",
    "    target = target_dict[i]\n",
    "    \n",
    "    features_train, features_valid, target_train, target_valid = train_test_split(features, target, test_size=0.25, random_state=42)\n",
    "    \n",
    "    features_train_dict.update({i:features_train})\n",
    "    target_train_dict.update({i:target_train})\n",
    "    \n",
    "    features_valid_dict.update({i:features_valid})\n",
    "    target_valid_dict.update({i:target_valid})"
   ]
  },
  {
   "cell_type": "code",
   "execution_count": 10,
   "metadata": {},
   "outputs": [
    {
     "name": "stdout",
     "output_type": "stream",
     "text": [
      "Region - 0; train size - 75000; valid size - 25000\n",
      "Region - 1; train size - 75000; valid size - 25000\n",
      "Region - 2; train size - 75000; valid size - 25000\n"
     ]
    }
   ],
   "source": [
    "# выведем размеры получившихся выборок\n",
    "\n",
    "for i in range(3):\n",
    "    \n",
    "    print('Region - {}; train size - {}; valid size - {}'.format(i, target_train_dict[i].shape[0], target_valid_dict[i].shape[0]))"
   ]
  },
  {
   "cell_type": "markdown",
   "metadata": {},
   "source": [
    "Всё отлично, как и хотелось - **обучающая : валидационная = 75:25**"
   ]
  },
  {
   "cell_type": "markdown",
   "metadata": {},
   "source": [
    "Теперь необходимо стандартизировать данные. Но для начала построим гистогрммы всех признаков для каждого региона и убедимся в том, что они распределены как попало. На каждом графике вертикальной красной линией отметим 0"
   ]
  },
  {
   "cell_type": "code",
   "execution_count": 11,
   "metadata": {},
   "outputs": [
    {
     "data": {
      "image/png": "[encoded data removed]",
      "text/plain": [
       "<Figure size 1440x1440 with 9 Axes>"
      ]
     },
     "metadata": {
      "needs_background": "light"
     },
     "output_type": "display_data"
    }
   ],
   "source": [
    "# строим гистограммы признаков до стандартизации\n",
    "\n",
    "fig, ax = plt.subplots(3,3, figsize=(20,20))\n",
    "\n",
    "for i in range(3):\n",
    "    region_name = 'Region ' + str(i)\n",
    "    for j in range(3):\n",
    "        column_name = 'f' + str(j)\n",
    "        \n",
    "        sns.distplot(features_train_dict[i][column_name], bins=50, kde=False, ax=ax[i,j], label=column_name)\n",
    "        ax[i,j].set_title(region_name, fontsize=15)\n",
    "        ax[i,j].axvline(x=0, color='red', label='mean 0')\n",
    "        ax[i,j].legend(loc='upper right')"
   ]
  },
  {
   "cell_type": "markdown",
   "metadata": {},
   "source": [
    "По построенным гистограммам видно, что только `f0` в регионах 1 и 2, а также `f1` в регионе 2 распределены симметрично относительно 0 - остальные значительно смещены"
   ]
  },
  {
   "cell_type": "markdown",
   "metadata": {},
   "source": [
    "<a id=\"стандартизация\"></a>"
   ]
  },
  {
   "cell_type": "markdown",
   "metadata": {},
   "source": [
    "## Стандартизация данных"
   ]
  },
  {
   "cell_type": "code",
   "execution_count": 12,
   "metadata": {},
   "outputs": [],
   "source": [
    "# создаем словари для хранения scaler'ов и стандартизированных признаков в обучающей и валидационной выборках\n",
    "\n",
    "scaler_dict = {}\n",
    "\n",
    "features_train_norm_dict ={}\n",
    "features_valid_norm_dict ={}\n",
    "\n",
    "# в цикле проходим по всем регионам  и стандартизируем признаки ['f0', 'f1', 'f2'] для обучающей и валидационной выборок\n",
    "\n",
    "for i in range(3):\n",
    "    \n",
    "    scaler = StandardScaler()\n",
    "    scaler.fit(features_train_dict[i][['f0', 'f1', 'f2']])\n",
    "    \n",
    "    norm_features_train = pd.DataFrame(data=scaler.transform(features_train_dict[i][['f0', 'f1', 'f2']]), columns=['f0', 'f1', 'f2'], index=features_train_dict[i].index)\n",
    "    norm_features_valid = pd.DataFrame(data=scaler.transform(features_valid_dict[i][['f0', 'f1', 'f2']]), columns=['f0', 'f1', 'f2'], index=features_valid_dict[i].index)\n",
    "    \n",
    "    features_train_norm_dict.update({i: norm_features_train})\n",
    "    features_valid_norm_dict.update({i: norm_features_valid})\n",
    "    scaler_dict.update({i:scaler})"
   ]
  },
  {
   "cell_type": "markdown",
   "metadata": {},
   "source": [
    "Для того чтобы проверить, что стандартизация проведена верно, снова построим гистограммы всех признаков для 3х регионов - теперь они должны быть распределены с центром в 0"
   ]
  },
  {
   "cell_type": "code",
   "execution_count": 13,
   "metadata": {},
   "outputs": [
    {
     "data": {
      "image/png": "[encoded data removed]",
      "text/plain": [
       "<Figure size 1440x1440 with 9 Axes>"
      ]
     },
     "metadata": {
      "needs_background": "light"
     },
     "output_type": "display_data"
    }
   ],
   "source": [
    "# строим гистограммы признаков после стандартизации\n",
    "\n",
    "fig, ax = plt.subplots(3,3, figsize=(20,20))\n",
    "\n",
    "for i in range(3):\n",
    "    region_name = 'Region ' + str(i)\n",
    "    for j in range(3):\n",
    "        column_name = 'f' + str(j)\n",
    "        \n",
    "        sns.distplot(features_train_norm_dict[i][column_name], bins=50, kde=False, ax=ax[i,j], label=column_name)\n",
    "        ax[i,j].set_title(region_name, fontsize=15)\n",
    "        ax[i,j].axvline(x=0, color='red', label='mean 0')\n",
    "        ax[i,j].legend(loc='upper right')"
   ]
  },
  {
   "cell_type": "markdown",
   "metadata": {},
   "source": [
    "Отлично, данные подготовлены - можно приступать к обучению моделей"
   ]
  },
  {
   "cell_type": "markdown",
   "metadata": {},
   "source": [
    "<a id=\"обучение_моделей\"></a>"
   ]
  },
  {
   "cell_type": "markdown",
   "metadata": {},
   "source": [
    "## Обучение моделей"
   ]
  },
  {
   "cell_type": "code",
   "execution_count": 14,
   "metadata": {},
   "outputs": [
    {
     "name": "stdout",
     "output_type": "stream",
     "text": [
      "CPU times: user 119 ms, sys: 79.1 ms, total: 198 ms\n",
      "Wall time: 160 ms\n"
     ]
    }
   ],
   "source": [
    "%%time\n",
    "\n",
    "# создаем словари для хранения моделей, предсказаний и RMSE\n",
    "\n",
    "model_dict = {}\n",
    "predictions_valid_dict = {}\n",
    "RMSE = {}\n",
    "\n",
    "# в цикле проходим по всем регионам и обучаем модели\n",
    "\n",
    "for i in range(3):\n",
    "    \n",
    "    model = LR(fit_intercept='True', n_jobs=-1) # инициируем модель\n",
    "    \n",
    "    # получаем обучающие фичи и целевой признак из словаря\n",
    "    features_train = features_train_norm_dict[i] \n",
    "    target_train = target_train_dict[i]\n",
    "    \n",
    "    # получаем валидационные фичи и целевой признак из словаря\n",
    "    features_valid = features_valid_norm_dict[i]\n",
    "    target_valid = target_valid_dict[i]\n",
    "    \n",
    "    \n",
    "    model.fit(features_train, target_train) # обучаем модель\n",
    "    model_dict.update({i: model}) # сохраняем модель\n",
    "    \n",
    "    predictions_valid = model.predict(features_valid) # предсказываем значения целевого признака на валидационной выборке\n",
    "    predictions_valid_dict.update({i: pd.Series(predictions_valid, index = target_valid.index)}) # сохраняем предсказания в словарь\n",
    "    \n",
    "    mse = mean_squared_error(target_valid, predictions_valid) # рассчитываем MSE\n",
    "    RMSE.update({i: mse**0.5}) # сохраняем в словарь RMSE"
   ]
  },
  {
   "cell_type": "markdown",
   "metadata": {},
   "source": [
    "Теперь посмотрим какие именно значения RMSE и среднего запаса сырья мы получили"
   ]
  },
  {
   "cell_type": "markdown",
   "metadata": {},
   "source": [
    "<a id=\"RMSE\"></a>"
   ]
  },
  {
   "cell_type": "markdown",
   "metadata": {},
   "source": [
    "## Значения RMSE для обученных моделей на валидационной выборке и средний запас предсказанного сырья для каждого региона"
   ]
  },
  {
   "cell_type": "code",
   "execution_count": 15,
   "metadata": {},
   "outputs": [
    {
     "data": {
      "image/png": "[encoded data removed]",
      "text/plain": [
       "<Figure size 864x360 with 2 Axes>"
      ]
     },
     "metadata": {
      "needs_background": "light"
     },
     "output_type": "display_data"
    }
   ],
   "source": [
    "fig, ax = plt.subplots(1, 2, figsize=(12,5))\n",
    "sns.barplot(x = 'region', y='RMSE',\n",
    "            data=pd.DataFrame(data= {'region': list(RMSE.keys()), 'RMSE':list(RMSE.values())}), ax=ax[0], color='plum', edgecolor='black')\n",
    "ax[0].set_title('Зависимость RMSE от региона')\n",
    "\n",
    "sns.barplot(x = 'region', y='mean product value',\n",
    "            data=pd.DataFrame(data= {'region': list(predictions_valid_dict.keys()), 'mean product value':[predictions_valid_dict[i].mean() for i in range(3)]}), ax=ax[1], color='grey', edgecolor='black')\n",
    "ax[1].set_title('Зависимость среднего запаса предсказанного сырья \\n от региона')\n",
    "\n",
    "ax[1].grid()\n",
    "ax[0].grid()"
   ]
  },
  {
   "cell_type": "markdown",
   "metadata": {},
   "source": [
    "Интересно, что мы получили очень маленькое значение RMSE для региона 1. Это может означать как то, что для это региона наблюдается сильная линейная зависимость между запасами сырья и признаками `f0`, `f1` и `f2`, так и то, что мы просто ошиблись при обучении модели. \n",
    "\n",
    "Чтобы убедиться в том, что мы не ошиблись при обучении модели - посчитаем корреляцию между стандартизированными признаками `f0`, `f1` и `f2` и целевым признаком `product` для региона 1 "
   ]
  },
  {
   "cell_type": "code",
   "execution_count": 16,
   "metadata": {},
   "outputs": [
    {
     "data": {
      "text/plain": [
       "<matplotlib.axes._subplots.AxesSubplot at 0x7efc4972ee10>"
      ]
     },
     "execution_count": 16,
     "metadata": {},
     "output_type": "execute_result"
    },
    {
     "data": {
      "image/png": "[encoded data removed]",
      "text/plain": [
       "<Figure size 720x576 with 2 Axes>"
      ]
     },
     "metadata": {
      "needs_background": "light"
     },
     "output_type": "display_data"
    }
   ],
   "source": [
    "# объединяем признаки 'f0', 'f1' и 'f2' и признак 'product' в одной таблице\n",
    "\n",
    "features = features_valid_norm_dict[1]\n",
    "target = target_valid_dict[1]\n",
    "dep_check = features.merge(target, left_index=True, right_index=True)\n",
    "\n",
    "# считаем коэффициенты корреляции и строим тепловую карту для наглядности\n",
    "\n",
    "fig, ax = plt.subplots(figsize=(10,8))\n",
    "sns.heatmap(dep_check.corr(), cmap='YlGnBu', linecolor='grey', linewidths=1, annot=True, ax=ax)"
   ]
  },
  {
   "cell_type": "markdown",
   "metadata": {},
   "source": [
    "Ну вот, видимо, и ответ на вопрос: \"Из-за чего RMSE для региона 1 имеет такое маленькое значение?\". По тепловой карте видно, что признак `f2` полностью коррелирует с целевым признаком `product`.\n",
    "\n",
    "На всякий случай проведем еще одну проверку - если стандартизированные данные так сильно коррелируют, то и исходные данные также должны демонстрировать зависимость. Построим график зависмости столбцов `f1` и `product` для данных из таблицы `data_1`"
   ]
  },
  {
   "cell_type": "code",
   "execution_count": 17,
   "metadata": {},
   "outputs": [
    {
     "data": {
      "text/plain": [
       "Text(0.5, 0.98, \"Зависимость между столбцами 'f1' и 'product' в таблице data_1\")"
      ]
     },
     "execution_count": 17,
     "metadata": {},
     "output_type": "execute_result"
    },
    {
     "data": {
      "image/png": "[encoded data removed]",
      "text/plain": [
       "<Figure size 432x432 with 3 Axes>"
      ]
     },
     "metadata": {
      "needs_background": "light"
     },
     "output_type": "display_data"
    }
   ],
   "source": [
    "ax = sns.jointplot(x='f2', y='product', data=data_1, kind='reg')\n",
    "ax.fig.suptitle(\"Зависимость между столбцами 'f1' и 'product' в таблице data_1\")"
   ]
  },
  {
   "cell_type": "markdown",
   "metadata": {},
   "source": [
    "Наши предположения подтвердились - в регионе 1 столбцы `f1` и `product` линейно зависимы"
   ]
  },
  {
   "cell_type": "markdown",
   "metadata": {},
   "source": [
    "<a id=\"вывод_1\"></a>"
   ]
  },
  {
   "cell_type": "markdown",
   "metadata": {},
   "source": [
    "### Вывод"
   ]
  },
  {
   "cell_type": "markdown",
   "metadata": {},
   "source": [
    "Лучше всего модель линейной регрессии подходит для региона 1 (наименьшее значение RMSE). Тем не менее - в регионе 1 самое маленькое значение среднего запаса предсказанного сырья. Самые большие предсказанные запасы (как и RMSE на валидационной выборке) наблюдаются в регионе 2"
   ]
  },
  {
   "cell_type": "markdown",
   "metadata": {},
   "source": [
    "<a id=\"шаг_3\"></a>"
   ]
  },
  {
   "cell_type": "markdown",
   "metadata": {},
   "source": [
    "# 3. Подготовка к расчёту прибыли"
   ]
  },
  {
   "cell_type": "markdown",
   "metadata": {},
   "source": [
    "<a id=\"константы\"></a>"
   ]
  },
  {
   "cell_type": "markdown",
   "metadata": {},
   "source": [
    "## Значимые константы"
   ]
  },
  {
   "cell_type": "markdown",
   "metadata": {},
   "source": [
    "Сначала сохраним в отдельных переменных все данные нашей задачи"
   ]
  },
  {
   "cell_type": "code",
   "execution_count": 18,
   "metadata": {},
   "outputs": [],
   "source": [
    "budget = 10 * 10**9 # бюджет на разработку скважин в регионе\n",
    "\n",
    "income = 450 * 10**3 # доход с каждой единицы продукта\n",
    "\n",
    "total_selected = 500 # количество точек, исследуемых при разведке региона\n",
    "\n",
    "top_200_selected = 200 # количество точек, которые выбирают для разработки"
   ]
  },
  {
   "cell_type": "markdown",
   "metadata": {},
   "source": [
    "<a id=\"V\"></a>"
   ]
  },
  {
   "cell_type": "markdown",
   "metadata": {},
   "source": [
    "## Достаточный объем сырья для безубыточной разработки в регионе"
   ]
  },
  {
   "cell_type": "markdown",
   "metadata": {},
   "source": [
    "Для начала напишем формулу, по которой рассчитывается доход с разработки:\n",
    "\n",
    "\\begin{equation}\n",
    "    доход = \\sum_{i=1}^{200} (объём  \\ сырья_i) \\cdot доход \\ с \\ 1 \\ сырья - бюджет \\ на \\ разработку\n",
    "\\end{equation}\n",
    "\n",
    "Т.к. мы хотим определить **достаточный** объём сырья для **безубыточной** разработки, то положим доход равным 0\n",
    "\n",
    "\\begin{equation}\n",
    "    \\sum_{i=1}^{200} (объём  \\ сырья_i)  = \\frac{бюджет \\ на \\ разработку}{доход \\ с \\ 1 \\ сырья}\n",
    "\\end{equation}\n",
    "\n",
    "ну или можно найти достаточный средний объем сырья в регионе:\n",
    "\n",
    "\\begin{equation}\n",
    "    \\overline {объём  \\ сырья}  = \\frac{бюджет \\ на \\ разработку}{доход \\ с \\ 1 \\ сырья \\cdot 200}\n",
    "\\end{equation}\n",
    "\n",
    "Ну а теперь расчитаем эту величину, воспользовавшись данными задачи"
   ]
  },
  {
   "cell_type": "code",
   "execution_count": 19,
   "metadata": {},
   "outputs": [
    {
     "name": "stdout",
     "output_type": "stream",
     "text": [
      "Средний объем сырья, необходимый для безубыточной разработки в регионе -  111.11 тыс. тонн\n"
     ]
    }
   ],
   "source": [
    "# рассчитываем минимальный запас сырья и минимальный средний запас сырья для безубыточной разработки\n",
    "\n",
    "min_mean_oil_stock = budget / (income*top_200_selected)\n",
    "min_oil_stock = budget / (income)\n",
    "\n",
    "print('Средний объем сырья, необходимый для безубыточной разработки в регионе - {: .2f} тыс. тонн'.format(min_mean_oil_stock))"
   ]
  },
  {
   "cell_type": "markdown",
   "metadata": {},
   "source": [
    "Построим график для наглядности"
   ]
  },
  {
   "cell_type": "code",
   "execution_count": 20,
   "metadata": {},
   "outputs": [
    {
     "data": {
      "image/png": "[encoded data removed]",
      "text/plain": [
       "<Figure size 576x576 with 1 Axes>"
      ]
     },
     "metadata": {
      "needs_background": "light"
     },
     "output_type": "display_data"
    }
   ],
   "source": [
    "# строим график сравнения среднего предсказанного запаса сырья в регионе и минмального среднего запаса достаточного для безубыточной разработки\n",
    "\n",
    "fig, ax = plt.subplots(figsize=(8,8))\n",
    "sns.barplot(x = 'region', y='mean product value',\n",
    "            data=pd.DataFrame(data= {'region': list(predictions_valid_dict.keys()), 'mean product value':[predictions_valid_dict[i].mean() for i in range(3)]}), ax=ax, color='grey', edgecolor='black', label=' предсказанный средний запас сырья в регионе')\n",
    "plt.axhline(y=min_mean_oil_stock, label='минимальный средний запас сырья в регионе \\n для безубыточной разработки')\n",
    "ax.legend(loc='upper right', fontsize=10)\n",
    "ax.set_ylim(0, 130)\n",
    "ax.set_title('Сравнение среднего предсказанного сырья в регионе \\n и минимального среднего запаса для безубыточной разработки', fontsize=20)\n",
    "plt.show()"
   ]
  },
  {
   "cell_type": "markdown",
   "metadata": {},
   "source": [
    "Несмотря на то,  что во всех 3х регионах средний предсказанный запас сырья оказался меньше минимального необходимого для безубыточной добычи, стоит учитывать, что во всех регионах существует большое количество точек с практически нулевыми запасами. Эти точки значительно снижают среднее значение. Построим гистограммы предсказанных запасов сырья для всех регионов и отметим на них минимальный средний запас сырья для безубыточной разработки"
   ]
  },
  {
   "cell_type": "code",
   "execution_count": 21,
   "metadata": {},
   "outputs": [
    {
     "data": {
      "image/png": "[encoded data removed]",
      "text/plain": [
       "<Figure size 1800x504 with 3 Axes>"
      ]
     },
     "metadata": {
      "needs_background": "light"
     },
     "output_type": "display_data"
    }
   ],
   "source": [
    "# строим гистограммы предсказанных запасов сырья для каждого региона\n",
    "\n",
    "fig, ax = plt.subplots(1, 3, figsize=(25,7))\n",
    "\n",
    "for i in range(3):\n",
    "\n",
    "    sns.distplot(predictions_valid_dict[i], kde=False, ax=ax[i])\n",
    "    ax[i].set_title('Region '+str(i))\n",
    "    ax[i].axvline(x=min_mean_oil_stock, color='red', label='минимальный объём \\n для безубыточной разработки')\n",
    "    ax[i].set_xlabel(xlabel='predicted product')\n",
    "    ax[i].legend(loc='upper left')"
   ]
  },
  {
   "cell_type": "markdown",
   "metadata": {},
   "source": [
    "По этим гистограммам можно сказать, что регионы 0 и 2 выглядят наиболее перспективными для разработки"
   ]
  },
  {
   "cell_type": "markdown",
   "metadata": {},
   "source": [
    "Напишем функцию для расчета дохода"
   ]
  },
  {
   "cell_type": "code",
   "execution_count": 22,
   "metadata": {},
   "outputs": [],
   "source": [
    "# функция для расчета дохода\n",
    "\n",
    "\"\"\"\n",
    "принимает на вход:\n",
    "    1) выборку значений с предсказанными запасами сырья в шахтах\n",
    "    2) массив истинных запасов сырья в шахтах\n",
    "    \n",
    "возвращает:\n",
    "    доход с 200 самых наполненных (по предсказанию) шахт. Но доход рассчитывается исходя из истинных значений запасов сырья\n",
    "\"\"\"\n",
    "\n",
    "def calc_income(predictions, target):\n",
    "    \n",
    "    top_200_predicted = predictions.sort_values(ascending=False).head(top_200_selected)\n",
    "    \n",
    "    index_top_200 = top_200_predicted.index.values\n",
    "    \n",
    "    top_200_target = target[index_top_200]\n",
    "    \n",
    "    total_income = top_200_target.sum() * income - budget\n",
    "    \n",
    "    return total_income    "
   ]
  },
  {
   "cell_type": "markdown",
   "metadata": {},
   "source": [
    "<a id=\"вывод_2\"></a>"
   ]
  },
  {
   "cell_type": "markdown",
   "metadata": {},
   "source": [
    "### Вывод"
   ]
  },
  {
   "cell_type": "markdown",
   "metadata": {},
   "source": [
    "Ни в одном из регионов средний предсказанный объем сырья не превосходит минимального среднего объема, достаточного для безубыточной разработки. Но это, скорее всего, объясняется тем фактом, что в каждом из регионов пристутствуем значительное количество шахт с практически нулевыми запасами, которые значительно снижают средний показатель."
   ]
  },
  {
   "cell_type": "markdown",
   "metadata": {},
   "source": [
    "<a id=\"шаг_4\"></a>"
   ]
  },
  {
   "cell_type": "markdown",
   "metadata": {},
   "source": [
    "# 4. Расчёт прибыли и рисков "
   ]
  },
  {
   "cell_type": "code",
   "execution_count": 23,
   "metadata": {},
   "outputs": [],
   "source": [
    "# bootstrap\n",
    "\n",
    "state = np.random.RandomState(42)\n",
    "total_income_dict = {}\n",
    "for i in range(3):\n",
    "    \n",
    "    predictions = predictions_valid_dict[i]\n",
    "    target = target_valid_dict[i]\n",
    "    income_list = []\n",
    "    \n",
    "    for j in range(1000):\n",
    "        \n",
    "        subsample = predictions.sample(frac=total_selected/predictions.shape[0], replace=False, random_state=state)        \n",
    "        income_list.append(calc_income(subsample, target))\n",
    "    \n",
    "    total_income_dict.update({i : pd.Series(income_list)})\n",
    "    "
   ]
  },
  {
   "cell_type": "markdown",
   "metadata": {},
   "source": [
    "Теперь построим гистограммы распределения выручки для каждого региона"
   ]
  },
  {
   "cell_type": "markdown",
   "metadata": {},
   "source": [
    "<a id=\"распределение_прибыли\"></a>"
   ]
  },
  {
   "cell_type": "markdown",
   "metadata": {},
   "source": [
    "## Распределение прибыли в каждом из регионов"
   ]
  },
  {
   "cell_type": "code",
   "execution_count": 24,
   "metadata": {},
   "outputs": [
    {
     "data": {
      "image/png": "[encoded data removed]",
      "text/plain": [
       "<Figure size 1800x504 with 3 Axes>"
      ]
     },
     "metadata": {
      "needs_background": "light"
     },
     "output_type": "display_data"
    }
   ],
   "source": [
    "fig, ax = plt.subplots(1, 3, figsize=(25,7))\n",
    "\n",
    "for i in range(3):\n",
    "    \n",
    "    #sns.distplot(pd.Series(total_income_dict[i]), ax=ax[i])\n",
    "    \n",
    "    ax[i].hist(total_income_dict[i], bins=50, label='распределение прибыли', color='lightsteelblue')\n",
    "    ax[i].axvline(x=0, color='red', label='граница убытков')\n",
    "    ax[i].axvline(x=total_income_dict[i].mean(), color='green', label='средняя прибыль в регионе')\n",
    "    ax[i].legend(loc='upper right')\n",
    "    ax[i].set_title('Region ' + str(i))"
   ]
  },
  {
   "cell_type": "markdown",
   "metadata": {},
   "source": [
    "<a id=\"средняя_прибыль_по_региону\"></a>"
   ]
  },
  {
   "cell_type": "markdown",
   "metadata": {},
   "source": [
    "## Средняя прибыль"
   ]
  },
  {
   "cell_type": "markdown",
   "metadata": {},
   "source": [
    "Рассчитаем среднюю прибыль в каждом регионе"
   ]
  },
  {
   "cell_type": "code",
   "execution_count": 25,
   "metadata": {},
   "outputs": [
    {
     "data": {
      "image/png": "[encoded data removed]",
      "text/plain": [
       "<Figure size 576x576 with 1 Axes>"
      ]
     },
     "metadata": {
      "needs_background": "light"
     },
     "output_type": "display_data"
    }
   ],
   "source": [
    "# средняя прибыль\n",
    "\n",
    "mean_region_income = []\n",
    "\n",
    "for i  in range(3):\n",
    "    mean_region_income.append(total_income_dict[i].mean())\n",
    "    \n",
    "\n",
    "fig, ax = plt.subplots(figsize=(8,8))\n",
    "sns.barplot(x = 'index', y=0, data=pd.DataFrame(data=mean_region_income).reset_index(), ax=ax, color='grey', edgecolor='black', label='средняя выручка в регионе')\n",
    "ax.set_xlabel(xlabel='регион')\n",
    "ax.set_ylabel(ylabel='средняя прибыль в регионе')\n",
    "ax.set_title('Зависимость средней прибыли от региона')\n",
    "ax.legend(loc='best')\n",
    "\n",
    "ax.get_yaxis().get_major_formatter().set_scientific(False)\n",
    "ax.grid()"
   ]
  },
  {
   "cell_type": "markdown",
   "metadata": {},
   "source": [
    "Пока что лучшим для разработки кажется регион 1, так как средняя прибыль в нем выше, чем в остальных регионах"
   ]
  },
  {
   "cell_type": "markdown",
   "metadata": {},
   "source": [
    "<a id=\"доверительный_интервала_для_прибыли\"></a>"
   ]
  },
  {
   "cell_type": "markdown",
   "metadata": {},
   "source": [
    "## Доверительный интервал"
   ]
  },
  {
   "cell_type": "markdown",
   "metadata": {},
   "source": [
    "Найдем доверительные интервалы для прибыли в каждом регионе"
   ]
  },
  {
   "cell_type": "code",
   "execution_count": 26,
   "metadata": {},
   "outputs": [
    {
     "name": "stdout",
     "output_type": "stream",
     "text": [
      "Регион 0 - 95% доверительный интервал = от -138,678,493.8819604 до 952,414,908.4140642\n",
      "\n",
      "Регион 1 - 95% доверительный интервал = от 28,878,732.655240346 до 865,831,912.5385565\n",
      "\n",
      "Регион 2 - 95% доверительный интервал = от -185,862,734.65718856 до 885,439,396.2295961\n",
      "\n"
     ]
    },
    {
     "data": {
      "image/png": "[encoded data removed]",
      "text/plain": [
       "<Figure size 720x720 with 1 Axes>"
      ]
     },
     "metadata": {
      "needs_background": "light"
     },
     "output_type": "display_data"
    }
   ],
   "source": [
    "minimum = []\n",
    "maximum = []\n",
    "\n",
    "for i in range(3):\n",
    "    values = total_income_dict[i]\n",
    "    \n",
    "    minimum.append(values.quantile(0.025))\n",
    "    maximum.append(values.quantile(0.975))\n",
    "    \n",
    "    print('Регион {} - 95% доверительный интервал = от {:,} до {:,}'.format(i, minimum[i], maximum[i]))\n",
    "    print()\n",
    "    \n",
    "\n",
    "\n",
    "fig, ax = plt.subplots(figsize=(10,10))\n",
    "sns.barplot(x = 'index', y='max', data=pd.DataFrame(data = {'min':minimum, 'max':maximum}).reset_index(), ax=ax, color='lightsteelblue', edgecolor='black', label='верхняя граница 95% доверительного интервала')\n",
    "sns.barplot(x = 'index', y='min', data=pd.DataFrame(data = {'min':minimum, 'max':maximum}).reset_index(), ax=ax, color='lightcoral', edgecolor='black', label='нижняя граница 95% доверительного интервала')\n",
    "ax.set_xlabel(xlabel='регион')\n",
    "ax.set_ylabel(ylabel='прибыль в регионе')\n",
    "ax.set_title('95% доверительный интервал для прибыли в каждом регионе', fontsize=15)\n",
    "ax.legend()\n",
    "\n",
    "ax.get_yaxis().get_major_formatter().set_scientific(False)\n",
    "ax.grid()"
   ]
  },
  {
   "cell_type": "markdown",
   "metadata": {},
   "source": [
    "Обратим внимание, что только во втором регионе нижняя граница 95% доверительного интервала лежит в области положительных значений."
   ]
  },
  {
   "cell_type": "markdown",
   "metadata": {},
   "source": [
    "<a id=\"риски_убытка\"></a>"
   ]
  },
  {
   "cell_type": "markdown",
   "metadata": {},
   "source": [
    "## Риск убытков"
   ]
  },
  {
   "cell_type": "markdown",
   "metadata": {},
   "source": [
    "Попробуем оценить вероятность того, что разработка в регионе будет убыточной. У нас уже есть распределение прибыли в регионах. Вероятность убыточной разработки фактически равна квантилю, значение которого равно 0.0. Т.е. фактически нам нужно применить функцию обратную dataframe.quantile()"
   ]
  },
  {
   "cell_type": "code",
   "execution_count": 27,
   "metadata": {},
   "outputs": [
    {
     "data": {
      "text/plain": [
       "[7.4, 1.7, 8.6]"
      ]
     },
     "execution_count": 27,
     "metadata": {},
     "output_type": "execute_result"
    }
   ],
   "source": [
    "# создаем список с рисками убытков для каждого региона\n",
    "\n",
    "loss_chanse = []\n",
    "\n",
    "for i in range(3):\n",
    "    \n",
    "    chanse = stats.percentileofscore(total_income_dict[i], 0)\n",
    "    loss_chanse.append(chanse)\n",
    "    \n",
    "    \n",
    "loss_chanse"
   ]
  },
  {
   "cell_type": "code",
   "execution_count": 28,
   "metadata": {},
   "outputs": [
    {
     "data": {
      "text/plain": [
       "<matplotlib.legend.Legend at 0x7efc49402f90>"
      ]
     },
     "execution_count": 28,
     "metadata": {},
     "output_type": "execute_result"
    },
    {
     "data": {
      "image/png": "[encoded data removed]",
      "text/plain": [
       "<Figure size 576x576 with 1 Axes>"
      ]
     },
     "metadata": {
      "needs_background": "light"
     },
     "output_type": "display_data"
    }
   ],
   "source": [
    "fig, ax = plt.subplots(figsize=(8,8))\n",
    "sns.barplot(x = 'index', y=0, data=pd.DataFrame(data=loss_chanse).reset_index(), ax=ax, color='lightgrey', edgecolor='black')\n",
    "ax.set_xlabel(xlabel='регион')\n",
    "ax.set_ylabel(ylabel='вероятность убытка в %')\n",
    "ax.set_title('Риск убытка для каждого региона')\n",
    "ax.axhline(y=2.5, label='пороговое значение 2.5%', color='red')\n",
    "ax.legend(loc='best')"
   ]
  },
  {
   "cell_type": "markdown",
   "metadata": {},
   "source": [
    "По гистограмме видно, что только в регионе 1 вероятность убытка при разработке меньше 2.5 процентов"
   ]
  },
  {
   "cell_type": "markdown",
   "metadata": {},
   "source": [
    "<a id=\"рекомендация\"></a>"
   ]
  },
  {
   "cell_type": "markdown",
   "metadata": {},
   "source": [
    "## Рекомендованный регион для разработки"
   ]
  },
  {
   "cell_type": "markdown",
   "metadata": {},
   "source": [
    "Исходя из:\n",
    "\n",
    "- [средней прибыль по региону](#средняя_прибыль_по_региону)\n",
    "\n",
    "- [95% доверительного интервала для прибыль](#доверительный_интервала_для_прибыли)\n",
    "\n",
    "- [рисков убытка](#риски_убытка)\n",
    "\n",
    "К разработке можно рекомендовать только **регион 1**, т.к.:\n",
    "\n",
    "- самая высокая средняя прибыль по региону\n",
    "\n",
    "- только в этом регионе 95% доверительный интервал лежит полностью в области положительных значений\n",
    "\n",
    "- только в этом регионе риск убытка меньше 2.5%"
   ]
  }
 ],
 "metadata": {
  "kernelspec": {
   "display_name": "Python 3",
   "language": "python",
   "name": "python3"
  },
  "language_info": {
   "codemirror_mode": {
    "name": "ipython",
    "version": 3
   },
   "file_extension": ".py",
   "mimetype": "text/x-python",
   "name": "python",
   "nbconvert_exporter": "python",
   "pygments_lexer": "ipython3",
   "version": "3.7.4"
  }
 },
 "nbformat": 4,
 "nbformat_minor": 4
}
